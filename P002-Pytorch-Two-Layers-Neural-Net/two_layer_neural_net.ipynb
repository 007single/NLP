{
 "cells": [
  {
   "cell_type": "markdown",
   "metadata": {},
   "source": [
    "## pytorch实现两层神经网络\n",
    "- 文档：https://pytorch.org/docs/torch"
   ]
  },
  {
   "cell_type": "code",
   "execution_count": 1,
   "metadata": {},
   "outputs": [],
   "source": [
    "import torch"
   ]
  },
  {
   "cell_type": "code",
   "execution_count": 2,
   "metadata": {},
   "outputs": [
    {
     "data": {
      "text/plain": [
       "'1.0.1'"
      ]
     },
     "execution_count": 2,
     "metadata": {},
     "output_type": "execute_result"
    }
   ],
   "source": [
    "torch.__version__"
   ]
  },
  {
   "cell_type": "markdown",
   "metadata": {},
   "source": [
    "## 用numpy实现两层神经网络\n",
    "一个全连接ReLU神经网络，一个隐藏层，没有bias。用来从x预测y，使用L2 Loss。\n",
    "- $h = W_1X$\n",
    "- $a = max(0, h)$\n",
    "- $y_{hat} = W_2a$\n",
    "\n",
    "这一实现完全使用numpy来计算前向神经网络，loss，和反向传播。\n",
    "- forward pass\n",
    "- loss\n",
    "- backward pass\n",
    "\n",
    "numpy ndarray是一个普通的n维array。它不知道任何关于深度学习或者梯度(gradient)的知识，也不知道计算图(computation graph)，只是一种用来计算数学运算的数据结构。"
   ]
  },
  {
   "cell_type": "code",
   "execution_count": 3,
   "metadata": {},
   "outputs": [],
   "source": [
    "import numpy as np"
   ]
  },
  {
   "cell_type": "code",
   "execution_count": 18,
   "metadata": {},
   "outputs": [
    {
     "name": "stdout",
     "output_type": "stream",
     "text": [
      "训练集维度： 1000\n",
      "itor: 0 | loss:36379916.30562085\n",
      "itor: 50 | loss:11522.84048949815\n",
      "itor: 100 | loss:312.54151381266536\n",
      "itor: 150 | loss:13.699522200570192\n",
      "itor: 200 | loss:0.7797040963869617\n",
      "itor: 250 | loss:0.05274861775962181\n",
      "itor: 300 | loss:0.004007803190526088\n",
      "itor: 350 | loss:0.00032858051495920253\n",
      "itor: 400 | loss:2.82897568570412e-05\n",
      "itor: 450 | loss:2.5142220375801123e-06\n",
      "itor: 500 | loss:2.2822002515655443e-07\n"
     ]
    }
   ],
   "source": [
    "# 样本个数，输入维度，hinton, 输出维度\n",
    "N, D_in, H, D_out = 64, 1000, 100, 10\n",
    "\n",
    "# 随机创建一些训练数据\n",
    "x = np.random.randn(N, D_in)\n",
    "y = np.random.randn(N, D_out)\n",
    "print(\"训练集维度：\", len(x[1]))\n",
    "\n",
    "w1 = np.random.randn(D_in, H)\n",
    "w2 = np.random.randn(H, D_out)\n",
    "\n",
    "learning_rate = 1e-6\n",
    "for it in range(501):\n",
    "    # 向前传播\n",
    "    h = x.dot(w1)   # N * H\n",
    "    # X 与 Y 逐位比较取其大者, 至少接收两个参数\n",
    "    h_relu = np.maximum(h, 0)  # N * H\n",
    "    y_pred = h_relu.dot(w2)  # N * D_out\n",
    "    \n",
    "    # 计算损失\n",
    "    loss = np.square(y_pred - y).sum()\n",
    "    # print(it, loss)\n",
    "    \n",
    "    # 反向传播\n",
    "    # 计算梯度\n",
    "    grad_y_pred = 2.0 * (y_pred - y)  # N * D_out\n",
    "    grad_w2 = h_relu.T.dot(grad_y_pred)\n",
    "    grad_h_relu = grad_y_pred.dot(w2.T)\n",
    "    grad_h = grad_h_relu.copy()\n",
    "    grad_h[h<0] = 0\n",
    "    grad_w1 = x.T.dot(grad_h)\n",
    "    \n",
    "    # update weights of w1 and w2\n",
    "    w1 -= learning_rate * grad_w1\n",
    "    w2 -= learning_rate * grad_w2\n",
    "    if it % 50 == 0:\n",
    "        print(\"itor: {} | loss:{}\".format(it, loss))"
   ]
  },
  {
   "cell_type": "markdown",
   "metadata": {},
   "source": [
    "## PyTorch: Tensors\n",
    "- 使用PyTorch tensors来创建前向神经网络，计算损失，以及反向传播。\n",
    "- 一个PyTorch Tensor很像一个numpy的ndarray。但是它和numpy ndarray最大的区别是，PyTorch Tensor可以在CPU或者GPU上运算。如果想要在GPU上运算，就需要把Tensor换成cuda类型。"
   ]
  },
  {
   "cell_type": "code",
   "execution_count": 35,
   "metadata": {},
   "outputs": [
    {
     "name": "stdout",
     "output_type": "stream",
     "text": [
      "itor: 0 | loss:26421104.0\n",
      "itor: 50 | loss:8897.6162109375\n",
      "itor: 100 | loss:248.85116577148438\n",
      "itor: 150 | loss:12.546610832214355\n",
      "itor: 200 | loss:0.842868447303772\n",
      "itor: 250 | loss:0.06756731867790222\n",
      "itor: 300 | loss:0.006269404664635658\n",
      "itor: 350 | loss:0.0008211490930989385\n",
      "itor: 400 | loss:0.0001843837380874902\n",
      "itor: 450 | loss:6.254202889977023e-05\n",
      "itor: 500 | loss:2.910074545070529e-05\n"
     ]
    }
   ],
   "source": [
    "N, D_in, H, D_out = 64, 1000, 100, 10\n",
    "\n",
    "# 随机创建一些训练数据\n",
    "x = torch.randn(N, D_in)\n",
    "y = torch.randn(N, D_out)\n",
    "\n",
    "w1 = torch.randn(D_in, H)\n",
    "w2 = torch.randn(H, D_out)\n",
    "\n",
    "learning_rate = 1e-6\n",
    "for it in range(501):\n",
    "    # Forward pass\n",
    "    h = x.mm(w1) # N * H\n",
    "    h_relu = h.clamp(min=0) # N * H\n",
    "    y_pred = h_relu.mm(w2) # N * D_out\n",
    "    \n",
    "    # compute loss\n",
    "    loss = (y_pred - y).pow(2).sum().item()\n",
    "    \n",
    "    # Backward pass\n",
    "    # compute the gradient\n",
    "    grad_y_pred = 2.0 * (y_pred - y)\n",
    "    grad_w2 = h_relu.t().mm(grad_y_pred)\n",
    "    grad_h_relu = grad_y_pred.mm(w2.t())\n",
    "    grad_h = grad_h_relu.clone()\n",
    "    grad_h[h<0] = 0\n",
    "    grad_w1 = x.t().mm(grad_h)\n",
    "    \n",
    "    # update weights of w1 and w2\n",
    "    w1 -= learning_rate * grad_w1\n",
    "    w2 -= learning_rate * grad_w2\n",
    "    if it % 50 == 0:\n",
    "        print(\"itor: {} | loss:{}\".format(it, loss))"
   ]
  },
  {
   "cell_type": "code",
   "execution_count": null,
   "metadata": {},
   "outputs": [],
   "source": []
  }
 ],
 "metadata": {
  "kernelspec": {
   "display_name": "Python 3",
   "language": "python",
   "name": "python3"
  },
  "language_info": {
   "codemirror_mode": {
    "name": "ipython",
    "version": 3
   },
   "file_extension": ".py",
   "mimetype": "text/x-python",
   "name": "python",
   "nbconvert_exporter": "python",
   "pygments_lexer": "ipython3",
   "version": "3.6.8"
  }
 },
 "nbformat": 4,
 "nbformat_minor": 2
}
