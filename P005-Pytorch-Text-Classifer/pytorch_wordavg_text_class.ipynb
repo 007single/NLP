{
 "cells": [
  {
   "cell_type": "markdown",
   "metadata": {},
   "source": [
    "## Sentiment Classfication By Word Averaging"
   ]
  },
  {
   "cell_type": "code",
   "execution_count": 1,
   "metadata": {},
   "outputs": [],
   "source": [
    "import torch\n",
    "import torch.nn as nn\n",
    "import torch.nn.functional as F\n",
    "import torch.optim as optim\n",
    "from collections import Counter\n",
    "import random"
   ]
  },
  {
   "cell_type": "code",
   "execution_count": 2,
   "metadata": {},
   "outputs": [],
   "source": [
    "random.seed(2019)\n",
    "# 使用benchmark以启动CUDNN_FIND自动寻找最快的操作，\n",
    "# 当计算图不会改变的时候（每次输入形状相同，模型不改变）的情况下可以提高性能，反之则降低性能。\n",
    "torch.backends.cudnn.deterministic = True"
   ]
  },
  {
   "cell_type": "code",
   "execution_count": 3,
   "metadata": {},
   "outputs": [],
   "source": [
    "EPOCHS = 5\n",
    "BATCH_SIZE = 32\n",
    "LEARNING_RATE = 0.01\n",
    "BEST_VALID_LOSS = float('inf')\n",
    "\n",
    "EMBEDDING_DIM = 100\n",
    "OUTPUT_DIM = 1\n",
    "\n",
    "train_file = \"data/senti.train.tsv\"\n",
    "eval_file = \"data/senti.dev.tsv\"\n",
    "test_file = \"data/senti.test.tsv\"\n",
    "\n",
    "USE_CUDA = torch.cuda.is_available()\n",
    "DEVICE = torch.device('cuda' if USE_CUDA else 'cpu')\n",
    "NUM_CUDA = torch.cuda.device_count()"
   ]
  },
  {
   "cell_type": "code",
   "execution_count": 4,
   "metadata": {},
   "outputs": [],
   "source": [
    "def load_text_file(filename):\n",
    "    sentences = []\n",
    "    label = []\n",
    "    with open(filename, \"r\") as f:\n",
    "        sent_list  = [line.strip().split('\\t') for line in f]\n",
    "    for sample in sent_list:\n",
    "        sentences.append(sample[0].split(\" \"))\n",
    "        label.append(int(sample[-1]))\n",
    "    return sentences, label"
   ]
  },
  {
   "cell_type": "code",
   "execution_count": 5,
   "metadata": {},
   "outputs": [],
   "source": [
    "train_sentences, train_label = load_text_file(train_file)\n",
    "eval_sentences, eval_label = load_text_file(eval_file)\n",
    "test_sentences, test_label = load_text_file(test_file)"
   ]
  },
  {
   "cell_type": "code",
   "execution_count": 6,
   "metadata": {},
   "outputs": [
    {
     "data": {
      "text/plain": [
       "(['hide', 'new', 'secretions', 'from', 'the', 'parental', 'units'], 0)"
      ]
     },
     "execution_count": 6,
     "metadata": {},
     "output_type": "execute_result"
    }
   ],
   "source": [
    "(train_sentences[0], train_label[0])"
   ]
  },
  {
   "cell_type": "code",
   "execution_count": 7,
   "metadata": {},
   "outputs": [
    {
     "name": "stdout",
     "output_type": "stream",
     "text": [
      "67349 67349\n",
      "872 872\n",
      "1821 1821\n",
      "52 1\n",
      "47 2\n",
      "56 2\n"
     ]
    }
   ],
   "source": [
    "print(len(train_sentences), len(train_label))\n",
    "print(len(eval_sentences), len(eval_label))\n",
    "print(len(test_sentences), len(test_label))\n",
    "\n",
    "print(max([len(s) for s in train_sentences]), min([len(s) for s in train_sentences]))\n",
    "print(max([len(s) for s in eval_sentences]), min([len(s) for s in eval_sentences]))\n",
    "print(max([len(s) for s in test_sentences]), min([len(s) for s in test_sentences]))"
   ]
  },
  {
   "cell_type": "code",
   "execution_count": 8,
   "metadata": {},
   "outputs": [],
   "source": [
    "def build_word_dic(sentences_list):\n",
    "    \"\"\"构建words_set, word2idx, idx2wor\"\"\"\n",
    "    words_list = [w for line in sentences_list for w in line]\n",
    "    counter = Counter(words_list)\n",
    "    words_set = list(counter)\n",
    "    # print(words_set[:10])\n",
    "    words_set = [ '<pad>', \"<unk>\"] + words_set\n",
    "    # print(words_set[0], words_set[1])\n",
    "    word2idx = {w:i for i, w in enumerate(words_set)}\n",
    "    idx2word = {i:w for i, w in enumerate(words_set)}\n",
    "    return words_set, word2idx, idx2word"
   ]
  },
  {
   "cell_type": "code",
   "execution_count": 9,
   "metadata": {},
   "outputs": [],
   "source": [
    "words_set, word2idx, idx2word = build_word_dic(train_sentences)"
   ]
  },
  {
   "cell_type": "code",
   "execution_count": 10,
   "metadata": {},
   "outputs": [
    {
     "data": {
      "text/plain": [
       "(16284, 16284, 16284)"
      ]
     },
     "execution_count": 10,
     "metadata": {},
     "output_type": "execute_result"
    }
   ],
   "source": [
    "(len(words_set), len(word2idx), len(idx2word))"
   ]
  },
  {
   "cell_type": "code",
   "execution_count": 11,
   "metadata": {},
   "outputs": [
    {
     "name": "stdout",
     "output_type": "stream",
     "text": [
      "0 <pad>\n",
      "1 <unk>\n",
      "2 hide\n",
      "3 new\n",
      "4 secretions\n",
      "5 from\n",
      "6 the\n",
      "7 parental\n",
      "8 units\n",
      "9 contains\n",
      "10 no\n",
      "11 wit\n",
      "12 ,\n",
      "13 only\n",
      "14 labored\n",
      "15 gags\n",
      "16 that\n",
      "17 loves\n",
      "18 its\n"
     ]
    }
   ],
   "source": [
    "i = 0\n",
    "for k,v in idx2word.items():\n",
    "    i += 1\n",
    "    if i < 20:\n",
    "        print(k, v)"
   ]
  },
  {
   "cell_type": "code",
   "execution_count": 12,
   "metadata": {},
   "outputs": [],
   "source": [
    "def build_x_y(word2idx, sentences_list, label_list, sent_len=30):\n",
    "    x = []\n",
    "    y = []\n",
    "    for sent, label in zip(sentences_list, label_list):\n",
    "        word_x = [0]*sent_len\n",
    "        if len(sent) > sent_len:\n",
    "            sent = sent[:sent_len]\n",
    "        for i, w in enumerate(sent):\n",
    "            if w in word2idx:\n",
    "                word_x[i] = word2idx[w]\n",
    "            else:\n",
    "                word_x[i] = word2idx['<unk>']\n",
    "        x.append(word_x)\n",
    "        y.append(label)\n",
    "    return x, y"
   ]
  },
  {
   "cell_type": "code",
   "execution_count": 13,
   "metadata": {},
   "outputs": [],
   "source": [
    "train_x, train_y = build_x_y(word2idx, train_sentences, train_label,sent_len=40)\n",
    "eval_x, eval_y = build_x_y(word2idx, eval_sentences, eval_label,sent_len=40)\n",
    "test_x, test_y = build_x_y(word2idx, test_sentences, test_label,sent_len=40)"
   ]
  },
  {
   "cell_type": "code",
   "execution_count": 14,
   "metadata": {},
   "outputs": [
    {
     "data": {
      "text/plain": [
       "(67349, 67349)"
      ]
     },
     "execution_count": 14,
     "metadata": {},
     "output_type": "execute_result"
    }
   ],
   "source": [
    "(len(train_x), len(train_y))"
   ]
  },
  {
   "cell_type": "code",
   "execution_count": 15,
   "metadata": {},
   "outputs": [],
   "source": [
    "# 构造批次数据\n",
    "def build_batch_data(data, label, batch_size=32):\n",
    "    \"\"\"构建 batch tensor，返回 batch 列表，每个batch为二元组包含data和label\"\"\"\n",
    "    batch_data = []\n",
    "    data_tensor = torch.tensor(data, dtype=torch.long)\n",
    "    label_tensor = torch.tensor(label, dtype=torch.float)\n",
    "    n, dim = data_tensor.size()\n",
    "    for start in range(0, n, batch_size):\n",
    "        end = start + batch_size\n",
    "        if end > n:\n",
    "            break\n",
    "            dbatch = data_tensor[start: ]\n",
    "            lbatch = label_tensor[start: ]\n",
    "            print(\"最后一个batch size:\", dbatch.size())\n",
    "        else:\n",
    "            dbatch = data_tensor[start: end]\n",
    "            lbatch = label_tensor[start: end]\n",
    "        batch_data.append((dbatch, lbatch))\n",
    "    return batch_data"
   ]
  },
  {
   "cell_type": "code",
   "execution_count": 16,
   "metadata": {},
   "outputs": [],
   "source": [
    "train_data = build_batch_data(train_x, train_y, batch_size=BATCH_SIZE)\n",
    "eval_data = build_batch_data(eval_x, eval_y, batch_size=BATCH_SIZE)\n",
    "test_data = build_batch_data(test_x, test_y, batch_size=BATCH_SIZE)"
   ]
  },
  {
   "cell_type": "code",
   "execution_count": 17,
   "metadata": {},
   "outputs": [],
   "source": [
    "# Word Averaging Model\n",
    "class WordAVGModel(nn.Module):\n",
    "    def __init__(self, vocab_size, embedding_dim, output_dim, pad_idx):\n",
    "        super(WordAVGModel, self).__init__()\n",
    "        self.embedding = nn.Embedding(vocab_size, embedding_dim, padding_idx=pad_idx)\n",
    "        self.fc = nn.Linear(embedding_dim, output_dim)\n",
    "        \n",
    "    def forward(self, data):\n",
    "        # print(\"data\", data.size())\n",
    "        embedded = self.embedding(data) # [sent len, batch size, emb dim]\n",
    "        # print(\"embdded\", embedded.size())\n",
    "        # embedded = embedded.permute(1, 0, 2) # [batch size, sent len, emb dim]\n",
    "        # print(\"embdded2:\", embedded.size())\n",
    "        pooled = F.avg_pool2d(embedded, (embedded.shape[1], 1)).squeeze(1) # [batch size, embedding_dim]\n",
    "        # print(\"poold:\", pooled.size())\n",
    "        score = self.fc(pooled)\n",
    "        return score"
   ]
  },
  {
   "cell_type": "code",
   "execution_count": 18,
   "metadata": {},
   "outputs": [],
   "source": [
    "INPUT_DIM = len(words_set)\n",
    "PAD_IDX = word2idx['<pad>']\n",
    "model = WordAVGModel(INPUT_DIM, EMBEDDING_DIM, OUTPUT_DIM, PAD_IDX)"
   ]
  },
  {
   "cell_type": "code",
   "execution_count": 19,
   "metadata": {},
   "outputs": [
    {
     "name": "stdout",
     "output_type": "stream",
     "text": [
      "The model has 1,628,501 trainable parameters\n"
     ]
    }
   ],
   "source": [
    "def count_parameters(model):\n",
    "    return sum(p.numel() for p in model.parameters() if p.requires_grad)\n",
    "\n",
    "print(f'The model has {count_parameters(model):,} trainable parameters')"
   ]
  },
  {
   "cell_type": "code",
   "execution_count": 20,
   "metadata": {},
   "outputs": [
    {
     "name": "stdout",
     "output_type": "stream",
     "text": [
      "[0, 1, 2, 3]\n"
     ]
    }
   ],
   "source": [
    "model = model.to(DEVICE)\n",
    "\n",
    "# 使用多块GPU\n",
    "if NUM_CUDA > 1:\n",
    "    device_ids = list(range(NUM_CUDA))\n",
    "    print(device_ids)\n",
    "optimizer = optim.Adam(model.parameters(),lr=LEARNING_RATE)\n",
    "criterion = nn.BCEWithLogitsLoss()"
   ]
  },
  {
   "cell_type": "code",
   "execution_count": 21,
   "metadata": {},
   "outputs": [],
   "source": [
    "def binary_accuracy(preds, y):\n",
    "    \"\"\"\n",
    "    Returns accuracy per batch, i.e. if you get 8/10 right, this returns 0.8, NOT 8\n",
    "    \"\"\"\n",
    "    rounded_preds = torch.round(torch.sigmoid(preds))\n",
    "    correct = (rounded_preds == y).float() #convert into float for division \n",
    "    acc = correct.sum()/len(correct)\n",
    "    return acc\n",
    "\n",
    "def train(model, device, iterator, optimizer, criterion):\n",
    "    \n",
    "    epoch_loss = 0\n",
    "    epoch_acc = 0\n",
    "    model.train()\n",
    "    \n",
    "    for x, y in iterator:\n",
    "        x, y = x.to(device), y.to(device) # torch.int64\n",
    "        optimizer.zero_grad()\n",
    "        predictions = model(x).squeeze(1)  # torch.float32 \n",
    "        \n",
    "        loss = criterion(predictions, y)\n",
    "        acc = binary_accuracy(predictions, y)\n",
    "        loss.backward()\n",
    "        optimizer.step()\n",
    "        \n",
    "        epoch_loss += loss.item()\n",
    "        epoch_acc += acc.item()\n",
    "        \n",
    "    return epoch_loss / len(iterator), epoch_acc / len(iterator)\n",
    "\n",
    "def evaluate(model, device, iterator, criterion):\n",
    "    \n",
    "    epoch_loss = 0\n",
    "    epoch_acc = 0\n",
    "    model.eval()\n",
    "    \n",
    "    with torch.no_grad():\n",
    "        for x, y in iterator:\n",
    "            x, y = x.to(device), y.to(device)\n",
    "            predictions = model(x).squeeze(1)\n",
    "            loss = criterion(predictions, y)\n",
    "            acc = binary_accuracy(predictions, y)\n",
    "            epoch_loss += loss.item()\n",
    "            epoch_acc += acc.item()\n",
    "        \n",
    "    return epoch_loss / len(iterator), epoch_acc / len(iterator)"
   ]
  },
  {
   "cell_type": "code",
   "execution_count": 22,
   "metadata": {},
   "outputs": [],
   "source": [
    "import time\n",
    "\n",
    "def epoch_time(start_time, end_time):\n",
    "    elapsed_time = end_time - start_time\n",
    "    elapsed_mins = int(elapsed_time / 60)\n",
    "    elapsed_secs = int(elapsed_time - (elapsed_mins * 60))\n",
    "    return elapsed_mins, elapsed_secs"
   ]
  },
  {
   "cell_type": "code",
   "execution_count": 23,
   "metadata": {},
   "outputs": [
    {
     "name": "stderr",
     "output_type": "stream",
     "text": [
      "/root/anaconda3/lib/python3.6/site-packages/torch/serialization.py:251: UserWarning: Couldn't retrieve source code for container of type WordAVGModel. It won't be checked for correctness upon loading.\n",
      "  \"type \" + obj.__name__ + \". It won't be checked \"\n"
     ]
    },
    {
     "name": "stdout",
     "output_type": "stream",
     "text": [
      "***Save Best Model wordavg-model.pth***\n",
      "Epoch: 01 | Epoch Time: 0m 8s\n",
      "\tTrain Loss: 0.355 | Train Acc: 84.57%\n",
      "\t Val. Loss: 0.585 |  Val. Acc: 81.02%\n",
      "Epoch: 02 | Epoch Time: 0m 8s\n",
      "\tTrain Loss: 0.214 | Train Acc: 91.84%\n",
      "\t Val. Loss: 0.723 |  Val. Acc: 80.79%\n",
      "Epoch: 03 | Epoch Time: 0m 7s\n",
      "\tTrain Loss: 0.177 | Train Acc: 93.32%\n",
      "\t Val. Loss: 0.854 |  Val. Acc: 79.98%\n",
      "Epoch: 04 | Epoch Time: 0m 6s\n",
      "\tTrain Loss: 0.156 | Train Acc: 94.25%\n",
      "\t Val. Loss: 0.976 |  Val. Acc: 79.63%\n",
      "Epoch: 05 | Epoch Time: 0m 8s\n",
      "\tTrain Loss: 0.140 | Train Acc: 94.84%\n",
      "\t Val. Loss: 1.089 |  Val. Acc: 79.51%\n"
     ]
    }
   ],
   "source": [
    "model_name = 'wordavg-model.pth'\n",
    "for epoch in range(1, EPOCHS+1):\n",
    "\n",
    "    start_time = time.time()\n",
    "    \n",
    "    train_loss, train_acc = train(model, DEVICE, train_data, optimizer, criterion)\n",
    "    valid_loss, valid_acc = evaluate(model, DEVICE, eval_data, criterion)\n",
    "    \n",
    "    end_time = time.time()\n",
    "\n",
    "    epoch_mins, epoch_secs = epoch_time(start_time, end_time)\n",
    "    \n",
    "    if valid_loss < BEST_VALID_LOSS:\n",
    "        BEST_VALID_LOSS = valid_loss\n",
    "        torch.save(model, model_name)\n",
    "        print(f'***Save Best Model {model_name}***')\n",
    "    \n",
    "    print(f'Epoch: {epoch :02} | Epoch Time: {epoch_mins}m {epoch_secs}s')\n",
    "    print(f'\\tTrain Loss: {train_loss:.3f} | Train Acc: {train_acc*100:.2f}%')\n",
    "    print(f'\\t Val. Loss: {valid_loss:.3f} |  Val. Acc: {valid_acc*100:.2f}%')"
   ]
  },
  {
   "cell_type": "code",
   "execution_count": 24,
   "metadata": {},
   "outputs": [
    {
     "name": "stdout",
     "output_type": "stream",
     "text": [
      "Test Loss: 0.5327801055141858 | Test Acc: 0.8063616071428571 |\n"
     ]
    }
   ],
   "source": [
    "model = torch.load(model_name)\n",
    "test_loss, test_acc = evaluate(model, DEVICE, test_data, criterion)\n",
    "print('Test Loss: {0} | Test Acc: {1} |'.format(test_loss, test_acc))"
   ]
  },
  {
   "cell_type": "code",
   "execution_count": 25,
   "metadata": {},
   "outputs": [
    {
     "name": "stdout",
     "output_type": "stream",
     "text": [
      "Embed size: torch.Size([16284, 100])\n"
     ]
    }
   ],
   "source": [
    "embed = model.embedding.weight.data\n",
    "print(\"Embed size:\", embed.size())\n",
    "word_l2norm = torch.norm(embed,  dim=1)\n",
    "embed_l2norm, embed_l2normnorm_idx = word_l2norm.sort()"
   ]
  },
  {
   "cell_type": "code",
   "execution_count": 26,
   "metadata": {},
   "outputs": [
    {
     "name": "stdout",
     "output_type": "stream",
     "text": [
      "L2 norm 最小的 15 个单词：\n",
      "<pad>\n",
      "martial\n",
      "Weeks\n",
      "fetishes\n",
      "core\n",
      "Earnhart\n",
      "released\n",
      "Rabbit-Proof\n",
      "Confusion\n",
      "embarking\n",
      "aiming\n",
      "tackling\n",
      "Am\n",
      "nervous\n",
      "Sade\n",
      "tensor([0.0000, 7.3888, 7.7593, 7.7802, 7.8499, 7.8826, 7.9168, 7.9480, 7.9485,\n",
      "        7.9650, 7.9883, 8.0346, 8.0370, 8.0452, 8.1170], device='cuda:0')\n"
     ]
    }
   ],
   "source": [
    "print('L2 norm 最小的 15 个单词：')\n",
    "for i in embed_l2normnorm_idx[:15].tolist():\n",
    "    print(idx2word[i])\n",
    "print(embed_l2norm[:15])"
   ]
  },
  {
   "cell_type": "code",
   "execution_count": 27,
   "metadata": {},
   "outputs": [
    {
     "name": "stdout",
     "output_type": "stream",
     "text": [
      "L2 norm 最大的 15 个单词：\n",
      "depressing\n",
      "wonderfully\n",
      "devoid\n",
      "pretentious\n",
      "annoying\n",
      "lousy\n",
      "failure\n",
      "unnecessary\n",
      "pointless\n",
      "worst\n",
      "stupid\n",
      "lacking\n",
      "remarkable\n",
      "mess\n",
      "wonderful\n",
      "tensor([20.5986, 20.6516, 20.7279, 21.0944, 21.1322, 21.2453, 21.2597, 21.4071,\n",
      "        21.7164, 22.6244, 23.3707, 23.4475, 23.6621, 23.8790, 25.6098],\n",
      "       device='cuda:0')\n"
     ]
    }
   ],
   "source": [
    "print('L2 norm 最大的 15 个单词：')\n",
    "for i in embed_l2normnorm_idx[-15:].tolist():\n",
    "    print(idx2word[i])\n",
    "print(embed_l2norm[-15:])"
   ]
  },
  {
   "cell_type": "code",
   "execution_count": null,
   "metadata": {},
   "outputs": [],
   "source": []
  }
 ],
 "metadata": {
  "kernelspec": {
   "display_name": "Python 3",
   "language": "python",
   "name": "python3"
  },
  "language_info": {
   "codemirror_mode": {
    "name": "ipython",
    "version": 3
   },
   "file_extension": ".py",
   "mimetype": "text/x-python",
   "name": "python",
   "nbconvert_exporter": "python",
   "pygments_lexer": "ipython3",
   "version": "3.6.8"
  }
 },
 "nbformat": 4,
 "nbformat_minor": 2
}
