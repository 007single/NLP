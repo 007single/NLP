{
 "cells": [
  {
   "cell_type": "markdown",
   "metadata": {},
   "source": [
    "## 文本分类"
   ]
  },
  {
   "cell_type": "code",
   "execution_count": 43,
   "metadata": {},
   "outputs": [],
   "source": [
    "import torch\n",
    "import torch.nn as nn\n",
    "import torch.nn.functional as F\n",
    "import torch.optim as optim\n",
    "from collections import Counter"
   ]
  },
  {
   "cell_type": "code",
   "execution_count": 44,
   "metadata": {},
   "outputs": [],
   "source": [
    "# 使用benchmark以启动CUDNN_FIND自动寻找最快的操作，\n",
    "# 当计算图不会改变的时候（每次输入形状相同，模型不改变）的情况下可以提高性能，反之则降低性能。\n",
    "torch.backends.cudnn.deterministic = True"
   ]
  },
  {
   "cell_type": "code",
   "execution_count": 45,
   "metadata": {},
   "outputs": [],
   "source": [
    "train_file = \"data/senti.train.tsv\"\n",
    "eval_file = \"data/senti.dev.tsv\"\n",
    "test_file = \"data/senti.test.tsv\""
   ]
  },
  {
   "cell_type": "code",
   "execution_count": 46,
   "metadata": {},
   "outputs": [],
   "source": [
    "def load_text_file(filename):\n",
    "    sentences = []\n",
    "    label = []\n",
    "    with open(filename, \"r\") as f:\n",
    "        sent_list  = [line.strip().split('\\t') for line in f]\n",
    "    for sample in sent_list:\n",
    "        sentences.append(sample[0].split(\" \"))\n",
    "        label.append(int(sample[-1]))\n",
    "    return sentences, label"
   ]
  },
  {
   "cell_type": "code",
   "execution_count": 47,
   "metadata": {},
   "outputs": [],
   "source": [
    "train_sentences, train_label = load_text_file(train_file)\n",
    "eval_sentences, eval_label = load_text_file(eval_file)\n",
    "test_sentences, test_label = load_text_file(test_file)"
   ]
  },
  {
   "cell_type": "code",
   "execution_count": 48,
   "metadata": {},
   "outputs": [
    {
     "data": {
      "text/plain": [
       "(['hide', 'new', 'secretions', 'from', 'the', 'parental', 'units'], 0)"
      ]
     },
     "execution_count": 48,
     "metadata": {},
     "output_type": "execute_result"
    }
   ],
   "source": [
    "(train_sentences[0], train_label[0])"
   ]
  },
  {
   "cell_type": "code",
   "execution_count": 49,
   "metadata": {},
   "outputs": [
    {
     "name": "stdout",
     "output_type": "stream",
     "text": [
      "67349 67349\n",
      "872 872\n",
      "1821 1821\n",
      "52 1\n",
      "47 2\n",
      "56 2\n"
     ]
    }
   ],
   "source": [
    "print(len(train_sentences), len(train_label))\n",
    "print(len(eval_sentences), len(eval_label))\n",
    "print(len(test_sentences), len(test_label))\n",
    "\n",
    "print(max([len(s) for s in train_sentences]), min([len(s) for s in train_sentences]))\n",
    "print(max([len(s) for s in eval_sentences]), min([len(s) for s in eval_sentences]))\n",
    "print(max([len(s) for s in test_sentences]), min([len(s) for s in test_sentences]))"
   ]
  },
  {
   "cell_type": "code",
   "execution_count": 50,
   "metadata": {},
   "outputs": [],
   "source": [
    "def build_vocab(sentences_list):\n",
    "    words_dict = {}\n",
    "    for sentence in sentences_list:\n",
    "        for w in sentence:\n",
    "            w = w.lower()\n",
    "            if w in words_dict:\n",
    "                words_dict[w] = words_dict[w]+1\n",
    "            else:\n",
    "                words_dict[w] = 1\n",
    "    return words_dict"
   ]
  },
  {
   "cell_type": "code",
   "execution_count": 51,
   "metadata": {},
   "outputs": [],
   "source": [
    "words_dict = build_vocab(train_sentences)"
   ]
  },
  {
   "cell_type": "code",
   "execution_count": 52,
   "metadata": {},
   "outputs": [
    {
     "data": {
      "text/plain": [
       "14828"
      ]
     },
     "execution_count": 52,
     "metadata": {},
     "output_type": "execute_result"
    }
   ],
   "source": [
    "len(words_dict)"
   ]
  },
  {
   "cell_type": "code",
   "execution_count": 53,
   "metadata": {},
   "outputs": [
    {
     "name": "stdout",
     "output_type": "stream",
     "text": [
      "15002\n",
      "15002\n"
     ]
    }
   ],
   "source": [
    "words_list = [w for line in train_sentences for w in line]\n",
    "words_counter = Counter(words_list)\n",
    "TopN = 15000\n",
    "wds_dict = dict(words_counter.most_common(TopN))\n",
    "word2idx = {w:i for i,w  in enumerate(wds_dict.keys(), 2)}\n",
    "\n",
    "word2idx['<pad>'] = 0\n",
    "word2idx['<unk>'] = 1\n",
    "print(len(word2idx))\n",
    "idx2word = {i:w for w,i in word2idx.items()} \n",
    "print(len(idx2word))"
   ]
  },
  {
   "cell_type": "code",
   "execution_count": 54,
   "metadata": {},
   "outputs": [
    {
     "name": "stdout",
     "output_type": "stream",
     "text": [
      "2 ,\n",
      "3 the\n",
      "4 and\n",
      "5 a\n",
      "6 of\n",
      "7 .\n",
      "8 to\n",
      "9 's\n",
      "10 is\n",
      "11 that\n",
      "12 in\n",
      "13 it\n",
      "14 as\n",
      "15 with\n",
      "16 film\n",
      "17 its\n",
      "18 for\n",
      "19 an\n",
      "20 movie\n"
     ]
    }
   ],
   "source": [
    "i = 0\n",
    "for k,v in idx2word.items():\n",
    "    i += 1\n",
    "    if i < 20:\n",
    "        print(k, v)"
   ]
  },
  {
   "cell_type": "code",
   "execution_count": 55,
   "metadata": {},
   "outputs": [],
   "source": [
    "def build_x_y(word2idx, sentences_list, label_list, sent_len=30):\n",
    "    x = []\n",
    "    y = []\n",
    "    for sent, label in zip(sentences_list, label_list):\n",
    "        word_x = [0]*sent_len\n",
    "        if len(sent) > sent_len:\n",
    "            sent = sent[:sent_len]\n",
    "        for i, w in enumerate(sent):\n",
    "            if w in word2idx:\n",
    "                word_x[i] = word2idx[w]\n",
    "            else:\n",
    "                word_x[i] = word2idx['<unk>']\n",
    "        x.append(word_x)\n",
    "        y.append(label)\n",
    "    return x, y"
   ]
  },
  {
   "cell_type": "code",
   "execution_count": 56,
   "metadata": {},
   "outputs": [],
   "source": [
    "train_x, train_y = build_x_y(word2idx, train_sentences, train_label,sent_len=40)\n",
    "eval_x, eval_y = build_x_y(word2idx, eval_sentences, eval_label,sent_len=40)\n",
    "test_x, test_y = build_x_y(word2idx, test_sentences, test_label,sent_len=40)"
   ]
  },
  {
   "cell_type": "code",
   "execution_count": 57,
   "metadata": {},
   "outputs": [
    {
     "data": {
      "text/plain": [
       "(67349, 67349)"
      ]
     },
     "execution_count": 57,
     "metadata": {},
     "output_type": "execute_result"
    }
   ],
   "source": [
    "(len(train_x), len(train_y))"
   ]
  },
  {
   "cell_type": "code",
   "execution_count": 58,
   "metadata": {},
   "outputs": [],
   "source": [
    "# 构造批次数据\n",
    "def build_batch_data(data, label, batch_size=32):\n",
    "    \"\"\"构建 batch tensor，返回 batch 列表，每个batch为二元组包含data和label\"\"\"\n",
    "    batch_data = []\n",
    "    data_tensor = torch.tensor(data, dtype=torch.long)\n",
    "    label_tensor = torch.tensor(label, dtype=torch.long)\n",
    "    n, dim = data_tensor.size()\n",
    "    for start in range(0, n, batch_size):\n",
    "        end = start + batch_size\n",
    "        if end > n:\n",
    "            break\n",
    "            dbatch = data_tensor[start: ]\n",
    "            lbatch = label_tensor[start: ]\n",
    "            print(\"最后一个batch size:\", dbatch.size())\n",
    "        else:\n",
    "            dbatch = data_tensor[start: end]\n",
    "            lbatch = label_tensor[start: end]\n",
    "        batch_data.append((dbatch, lbatch))\n",
    "    return batch_data"
   ]
  },
  {
   "cell_type": "code",
   "execution_count": 59,
   "metadata": {},
   "outputs": [],
   "source": [
    "BATCH_SIZE = 64\n",
    "train_data = build_batch_data(train_x, train_y, batch_size=BATCH_SIZE)\n",
    "eval_data = build_batch_data(eval_x, eval_y, batch_size=BATCH_SIZE)\n",
    "test_data = build_batch_data(test_x, test_y, batch_size=BATCH_SIZE)"
   ]
  },
  {
   "cell_type": "code",
   "execution_count": 60,
   "metadata": {},
   "outputs": [],
   "source": [
    "## WordAvgModel\n",
    "\n",
    "class WordAVGModel(nn.Module):\n",
    "    def __init__(self, vocab_size, embedding_dim, output_dim, pad_idx):\n",
    "        super(WordAVGModel, self).__init__()\n",
    "        self.embedding = nn.Embedding(vocab_size, embedding_dim, padding_idx=pad_idx)\n",
    "        self.fc = nn.Linear(embedding_dim, output_dim)\n",
    "        \n",
    "    def forward(self, data):\n",
    "#         print(\"data\", data.size())\n",
    "        embedded = self.embedding(data) # [sent len, batch size, emb dim]\n",
    "#         print(\"embdded\", embedded.size())\n",
    "#         embedded = embedded.permute(1, 0, 2) # [batch size, sent len, emb dim]\n",
    "#         print(\"embdded2:\", embedded.size())\n",
    "        pooled = F.avg_pool2d(embedded, (embedded.shape[1], 1)).squeeze(1) # [batch size, embedding_dim]\n",
    "#         print(\"poold:\", pooled.size())\n",
    "#         score = torch.tensor(self.fc(pooled), dtype=torch.long)\n",
    "        score = self.fc(pooled)\n",
    "        return score"
   ]
  },
  {
   "cell_type": "code",
   "execution_count": 61,
   "metadata": {},
   "outputs": [],
   "source": [
    "INPUT_DIM = len(word2idx)\n",
    "EMBEDDING_DIM = 100\n",
    "OUTPUT_DIM = 1\n",
    "PAD_IDX = 0\n",
    "LEARNING_RATE = 0.01\n",
    "\n",
    "model = WordAVGModel(INPUT_DIM, EMBEDDING_DIM, OUTPUT_DIM, PAD_IDX)"
   ]
  },
  {
   "cell_type": "code",
   "execution_count": 62,
   "metadata": {},
   "outputs": [
    {
     "name": "stdout",
     "output_type": "stream",
     "text": [
      "The model has 1,500,301 trainable parameters\n"
     ]
    }
   ],
   "source": [
    "def count_parameters(model):\n",
    "    return sum(p.numel() for p in model.parameters() if p.requires_grad)\n",
    "\n",
    "print(f'The model has {count_parameters(model):,} trainable parameters')"
   ]
  },
  {
   "cell_type": "code",
   "execution_count": 63,
   "metadata": {},
   "outputs": [
    {
     "name": "stdout",
     "output_type": "stream",
     "text": [
      "cuda\n"
     ]
    }
   ],
   "source": [
    "device = torch.device('cuda' if torch.cuda.is_available() else 'cpu')\n",
    "print(device)\n",
    "\n",
    "optimizer = optim.Adam(model.parameters(),lr=LEARNING_RATE)\n",
    "criterion = nn.BCEWithLogitsLoss()\n",
    "model = model.to(device)"
   ]
  },
  {
   "cell_type": "code",
   "execution_count": 64,
   "metadata": {},
   "outputs": [],
   "source": [
    "def binary_accuracy(preds, y):\n",
    "    \"\"\"\n",
    "    Returns accuracy per batch, i.e. if you get 8/10 right, this returns 0.8, NOT 8\n",
    "    \"\"\"\n",
    "\n",
    "    #round predictions to the closest integer\n",
    "    rounded_preds = torch.round(torch.sigmoid(preds))\n",
    "    correct = (rounded_preds == y).float() #convert into float for division \n",
    "    acc = correct.sum()/len(correct)\n",
    "    return acc\n",
    "\n",
    "def train(model, device, iterator, optimizer, criterion):\n",
    "    \n",
    "    epoch_loss = 0\n",
    "    epoch_acc = 0\n",
    "    model.train()\n",
    "    \n",
    "    for x, y in iterator:\n",
    "        x, y = x.to(device), y.to(device, dtype=torch.float32) # torch.int64\n",
    "        optimizer.zero_grad()\n",
    "        predictions = model(x).squeeze(1)  # torch.float32 \n",
    "        \n",
    "        loss = criterion(predictions, y)\n",
    "        acc = binary_accuracy(predictions, y)\n",
    "        loss.backward()\n",
    "        optimizer.step()\n",
    "        \n",
    "        epoch_loss += loss.item()\n",
    "        epoch_acc += acc.item()\n",
    "        \n",
    "    return epoch_loss / len(iterator), epoch_acc / len(iterator)\n",
    "\n",
    "def evaluate(model, device, iterator, criterion):\n",
    "    \n",
    "    epoch_loss = 0\n",
    "    epoch_acc = 0\n",
    "    model.eval()\n",
    "    \n",
    "    with torch.no_grad():\n",
    "        for x, y in iterator:\n",
    "            x, y = x.to(device), y.to(device, dtype=torch.float32)\n",
    "            predictions = model(x).squeeze(1)\n",
    "            loss = criterion(predictions, y)\n",
    "            acc = binary_accuracy(predictions, y)\n",
    "            epoch_loss += loss.item()\n",
    "            epoch_acc += acc.item()\n",
    "        \n",
    "    return epoch_loss / len(iterator), epoch_acc / len(iterator)"
   ]
  },
  {
   "cell_type": "code",
   "execution_count": 65,
   "metadata": {},
   "outputs": [],
   "source": [
    "import time\n",
    "\n",
    "def epoch_time(start_time, end_time):\n",
    "    elapsed_time = end_time - start_time\n",
    "    elapsed_mins = int(elapsed_time / 60)\n",
    "    elapsed_secs = int(elapsed_time - (elapsed_mins * 60))\n",
    "    return elapsed_mins, elapsed_secs"
   ]
  },
  {
   "cell_type": "code",
   "execution_count": 66,
   "metadata": {},
   "outputs": [
    {
     "name": "stderr",
     "output_type": "stream",
     "text": [
      "/root/anaconda3/lib/python3.6/site-packages/torch/serialization.py:251: UserWarning: Couldn't retrieve source code for container of type WordAVGModel. It won't be checked for correctness upon loading.\n",
      "  \"type \" + obj.__name__ + \". It won't be checked \"\n"
     ]
    },
    {
     "name": "stdout",
     "output_type": "stream",
     "text": [
      "Epoch: 01 | Epoch Time: 0m 4s\n",
      "\tTrain Loss: 0.368 | Train Acc: 83.60%\n",
      "\t Val. Loss: 0.534 |  Val. Acc: 81.49%\n",
      "Epoch: 02 | Epoch Time: 0m 4s\n",
      "\tTrain Loss: 0.217 | Train Acc: 91.75%\n",
      "\t Val. Loss: 0.661 |  Val. Acc: 81.85%\n",
      "Epoch: 03 | Epoch Time: 0m 4s\n",
      "\tTrain Loss: 0.181 | Train Acc: 93.12%\n",
      "\t Val. Loss: 0.771 |  Val. Acc: 80.77%\n",
      "Epoch: 04 | Epoch Time: 0m 4s\n",
      "\tTrain Loss: 0.163 | Train Acc: 93.93%\n",
      "\t Val. Loss: 0.864 |  Val. Acc: 80.53%\n",
      "Epoch: 05 | Epoch Time: 0m 4s\n",
      "\tTrain Loss: 0.151 | Train Acc: 94.32%\n",
      "\t Val. Loss: 0.938 |  Val. Acc: 80.77%\n",
      "Epoch: 06 | Epoch Time: 0m 4s\n",
      "\tTrain Loss: 0.144 | Train Acc: 94.58%\n",
      "\t Val. Loss: 1.006 |  Val. Acc: 80.53%\n",
      "Epoch: 07 | Epoch Time: 0m 4s\n",
      "\tTrain Loss: 0.137 | Train Acc: 94.79%\n",
      "\t Val. Loss: 1.072 |  Val. Acc: 80.77%\n",
      "Epoch: 08 | Epoch Time: 0m 3s\n",
      "\tTrain Loss: 0.132 | Train Acc: 94.98%\n",
      "\t Val. Loss: 1.140 |  Val. Acc: 80.65%\n",
      "Epoch: 09 | Epoch Time: 0m 4s\n",
      "\tTrain Loss: 0.127 | Train Acc: 95.14%\n",
      "\t Val. Loss: 1.213 |  Val. Acc: 80.29%\n",
      "Epoch: 10 | Epoch Time: 0m 4s\n",
      "\tTrain Loss: 0.123 | Train Acc: 95.32%\n",
      "\t Val. Loss: 1.289 |  Val. Acc: 79.81%\n"
     ]
    }
   ],
   "source": [
    "N_EPOCHS = 10\n",
    "\n",
    "best_valid_loss = float('inf')\n",
    "\n",
    "for epoch in range(N_EPOCHS):\n",
    "\n",
    "    start_time = time.time()\n",
    "    \n",
    "    train_loss, train_acc = train(model, device, train_data, optimizer, criterion)\n",
    "    valid_loss, valid_acc = evaluate(model, device, eval_data, criterion)\n",
    "    \n",
    "    end_time = time.time()\n",
    "\n",
    "    epoch_mins, epoch_secs = epoch_time(start_time, end_time)\n",
    "    \n",
    "    if valid_loss < best_valid_loss:\n",
    "        best_valid_loss = valid_loss\n",
    "        torch.save(model, 'wordavg-model.pth')\n",
    "    \n",
    "    print(f'Epoch: {epoch+1:02} | Epoch Time: {epoch_mins}m {epoch_secs}s')\n",
    "    print(f'\\tTrain Loss: {train_loss:.3f} | Train Acc: {train_acc*100:.2f}%')\n",
    "    print(f'\\t Val. Loss: {valid_loss:.3f} |  Val. Acc: {valid_acc*100:.2f}%')"
   ]
  },
  {
   "cell_type": "code",
   "execution_count": 67,
   "metadata": {},
   "outputs": [
    {
     "name": "stdout",
     "output_type": "stream",
     "text": [
      "Test Loss: 0.48911639622279574 | Test Acc: 0.8225446428571429 |\n"
     ]
    }
   ],
   "source": [
    "model_name = 'wordavg-model.pth'\n",
    "model = torch.load(model_name)\n",
    "test_loss, test_acc = evaluate(model, device, test_data, criterion)\n",
    "print('Test Loss: {0} | Test Acc: {1} |'.format(test_loss, test_acc))"
   ]
  },
  {
   "cell_type": "code",
   "execution_count": 68,
   "metadata": {},
   "outputs": [
    {
     "data": {
      "text/plain": [
       "tensor([[ 0.0000,  0.0000,  0.0000,  ...,  0.0000,  0.0000,  0.0000],\n",
       "        [-0.0043,  1.5189, -0.1079,  ..., -0.6966, -0.4025,  0.5670],\n",
       "        [ 0.4338,  0.1577, -0.1645,  ..., -0.4522,  0.1431, -1.5758],\n",
       "        ...,\n",
       "        [-1.1635, -2.2269,  0.1378,  ...,  0.5291,  0.7003,  2.4660],\n",
       "        [ 0.8394, -0.8261, -1.5766,  ..., -1.5842, -1.6100,  0.0027],\n",
       "        [-1.6016, -0.3822, -1.6694,  ..., -0.1092, -0.1342,  1.1631]],\n",
       "       device='cuda:0')"
      ]
     },
     "execution_count": 68,
     "metadata": {},
     "output_type": "execute_result"
    }
   ],
   "source": [
    "model.state_dict()['embedding.weight']"
   ]
  },
  {
   "cell_type": "code",
   "execution_count": 69,
   "metadata": {},
   "outputs": [],
   "source": [
    "embed = model.embedding.weight.data\n",
    "embed_norm = torch.norm(embed, p=None, dim=1)\n",
    "sort_embed_norm, sort_embed_norm_idx = embed_norm.sort()"
   ]
  },
  {
   "cell_type": "code",
   "execution_count": 74,
   "metadata": {},
   "outputs": [
    {
     "name": "stdout",
     "output_type": "stream",
     "text": [
      "norm 最小的 15 个单词：\n",
      "<pad>\n",
      "came\n",
      "morality\n",
      "mind\n",
      "Dummies\n",
      "Wrote\n",
      "Eisenstein\n",
      "rewarded\n",
      "Catcher\n",
      "Errol\n",
      "Solondz\n",
      "unreligious\n",
      "Rinzler\n",
      "improvisation\n",
      "hybrid\n"
     ]
    }
   ],
   "source": [
    "# norm 最小的 15 个单词\n",
    "print('norm 最小的 15 个单词：')\n",
    "for idx in sort_embed_norm_idx[:15].tolist():\n",
    "    print(idx2word[idx])"
   ]
  },
  {
   "cell_type": "code",
   "execution_count": 75,
   "metadata": {},
   "outputs": [
    {
     "name": "stdout",
     "output_type": "stream",
     "text": [
      "norm 最大的 15 个单词：\n",
      "worse\n",
      "wonderfully\n",
      "refreshing\n",
      "lacks\n",
      "pointless\n",
      "devoid\n",
      "failure\n",
      "lousy\n",
      "terrific\n",
      "worst\n",
      "stupid\n",
      "mess\n",
      "wonderful\n",
      "lacking\n",
      "remarkable\n"
     ]
    }
   ],
   "source": [
    "# norm 最大的 15 个单词\n",
    "print('norm 最大的 15 个单词：')\n",
    "for idx in sort_embed_norm_idx[-15:].tolist():\n",
    "    print(idx2word[idx])"
   ]
  },
  {
   "cell_type": "code",
   "execution_count": null,
   "metadata": {},
   "outputs": [],
   "source": []
  }
 ],
 "metadata": {
  "kernelspec": {
   "display_name": "Python 3",
   "language": "python",
   "name": "python3"
  },
  "language_info": {
   "codemirror_mode": {
    "name": "ipython",
    "version": 3
   },
   "file_extension": ".py",
   "mimetype": "text/x-python",
   "name": "python",
   "nbconvert_exporter": "python",
   "pygments_lexer": "ipython3",
   "version": "3.6.8"
  }
 },
 "nbformat": 4,
 "nbformat_minor": 2
}
