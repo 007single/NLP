{
 "cells": [
  {
   "cell_type": "markdown",
   "metadata": {},
   "source": [
    "## Attention Weighted word averaging"
   ]
  },
  {
   "cell_type": "code",
   "execution_count": 1,
   "metadata": {},
   "outputs": [],
   "source": [
    "import time\n",
    "import random\n",
    "import numpy as np\n",
    "from collections import Counter\n",
    "\n",
    "import torch\n",
    "import torch.nn as nn\n",
    "import torch.optim as optim\n",
    "import torch.nn.functional as F"
   ]
  },
  {
   "cell_type": "code",
   "execution_count": 2,
   "metadata": {},
   "outputs": [],
   "source": [
    "EPOCHS = 5\n",
    "BATCH_SIZE = 32\n",
    "LEARNING_RATE = 0.01\n",
    "BEST_VALID_LOSS = float('inf')\n",
    "\n",
    "EMBEDDING_DIM = 100\n",
    "OUTPUT_DIM = 1\n",
    "\n",
    "train_file = \"data/senti.train.tsv\"\n",
    "eval_file = \"data/senti.dev.tsv\"\n",
    "test_file = \"data/senti.test.tsv\"\n",
    "\n",
    "USE_CUDA = torch.cuda.is_available()\n",
    "DEVICE = torch.device('cuda' if USE_CUDA else 'cpu')\n",
    "NUM_CUDA = torch.cuda.device_count()"
   ]
  },
  {
   "cell_type": "code",
   "execution_count": 3,
   "metadata": {},
   "outputs": [],
   "source": [
    "def load_text_file(filename):\n",
    "    \"\"\"将样本的特征与标签分开，并将样本特征分词\"\"\"\n",
    "    sentences = []\n",
    "    label = []\n",
    "    with open(filename, \"r\") as f:\n",
    "        sent_list  = [line.strip().split('\\t') for line in f]\n",
    "    for sample in sent_list:\n",
    "        sentences.append(sample[0].split(\" \"))\n",
    "        label.append(int(sample[-1]))\n",
    "    return sentences, label\n",
    "\n",
    "\n",
    "def build_word_dic(sentences_list, vocab_size=20_000):\n",
    "    \"\"\"构建words_set, word2idx, idx2word\"\"\"\n",
    "    words_list = [w for line in sentences_list for w in line]\n",
    "    counter = Counter(words_list)\n",
    "    words_topn = counter.most_common(vocab_size)\n",
    "    words_set = [item[0] for item in words_topn]\n",
    "    words_set = ['<pad>', \"<unk>\"] + words_set\n",
    "    word2idx = {w:i for i, w in enumerate(words_set)}\n",
    "    idx2word = {i:w for i, w in enumerate(words_set)}\n",
    "    return words_set, word2idx, idx2word\n",
    "\n",
    "\n",
    "def build_x_y(word2idx, sentences_list, label_list, sent_len=30):\n",
    "    \"\"\"构建输入模型的数据，对每个单词编码，每个句子通过添加pading保持一样长\"\"\"\n",
    "    x = []\n",
    "    y = []\n",
    "    for sent, label in zip(sentences_list, label_list):\n",
    "        word_x = [0]*sent_len\n",
    "        if len(sent) > sent_len:\n",
    "            sent = sent[:sent_len]\n",
    "        for i, w in enumerate(sent):\n",
    "            if w in word2idx:\n",
    "                word_x[i] = word2idx[w]\n",
    "            else:\n",
    "                word_x[i] = word2idx['<unk>']\n",
    "        x.append(word_x)\n",
    "        y.append(label)\n",
    "    return x, y\n",
    "\n",
    "\n",
    "def build_batch_data(data, label, batch_size=32):\n",
    "    \"\"\"构建tensor格式的批次数据，返回batch列表，每个batch为二元组包含feature和label\"\"\"\n",
    "    batch_data = []\n",
    "    # 打乱顺序\n",
    "    data_labels = [[x, y] for x, y in zip(data, label)]\n",
    "    random.shuffle(data_labels)\n",
    "    xlist = [item[0] for item in data_labels]\n",
    "    ylist = [item[1] for item in data_labels]\n",
    "    \n",
    "    x_tensor = torch.tensor(xlist, dtype=torch.long)\n",
    "    y_tensor = torch.tensor(ylist, dtype=torch.float)\n",
    "    n, dim = x_tensor.size()\n",
    "    for start in range(0, n, batch_size):\n",
    "        end = start + batch_size\n",
    "        if end > n:\n",
    "            break\n",
    "            xbatch = x_tensor[start: ]\n",
    "            ybatch = y_tensor[start: ]\n",
    "            print(\"最后一个batch size:\", dbatch.size())\n",
    "        else:\n",
    "            xbatch = x_tensor[start: end]\n",
    "            ybatch = y_tensor[start: end]\n",
    "        batch_data.append((xbatch, ybatch))\n",
    "    return batch_data"
   ]
  },
  {
   "cell_type": "code",
   "execution_count": 4,
   "metadata": {},
   "outputs": [],
   "source": [
    "train_sentences, train_label = load_text_file(train_file)\n",
    "eval_sentences, eval_label = load_text_file(eval_file)\n",
    "test_sentences, test_label = load_text_file(test_file)"
   ]
  },
  {
   "cell_type": "code",
   "execution_count": 5,
   "metadata": {},
   "outputs": [
    {
     "name": "stdout",
     "output_type": "stream",
     "text": [
      "处理后的样本与标签： ['hide', 'new', 'secretions', 'from', 'the', 'parental', 'units'] 0\n",
      "各个数据集样本数量：\n",
      "67349 67349\n",
      "872 872\n",
      "1821 1821\n",
      "各数据集最长最短句子单词数：\n",
      "52 1\n",
      "47 2\n",
      "56 2\n"
     ]
    }
   ],
   "source": [
    "print(\"处理后的样本与标签：\", train_sentences[0], train_label[0])\n",
    "print(\"各个数据集样本数量：\")\n",
    "print(len(train_sentences), len(train_label))\n",
    "print(len(eval_sentences), len(eval_label))\n",
    "print(len(test_sentences), len(test_label))\n",
    "\n",
    "print(\"各数据集最长最短句子单词数：\")\n",
    "print(max([len(s) for s in train_sentences]), min([len(s) for s in train_sentences]))\n",
    "print(max([len(s) for s in eval_sentences]), min([len(s) for s in eval_sentences]))\n",
    "print(max([len(s) for s in test_sentences]), min([len(s) for s in test_sentences]))"
   ]
  },
  {
   "cell_type": "code",
   "execution_count": 6,
   "metadata": {},
   "outputs": [],
   "source": [
    "words_set, word2idx, idx2word = build_word_dic(train_sentences)\n",
    "train_x, train_y = build_x_y(word2idx, train_sentences, train_label,sent_len=40)\n",
    "eval_x, eval_y = build_x_y(word2idx, eval_sentences, eval_label,sent_len=40)\n",
    "test_x, test_y = build_x_y(word2idx, test_sentences, test_label,sent_len=40)"
   ]
  },
  {
   "cell_type": "code",
   "execution_count": 7,
   "metadata": {},
   "outputs": [
    {
     "name": "stdout",
     "output_type": "stream",
     "text": [
      "词典长度: 16284 16284 16284\n",
      "训练集样本数量: 67349 67349\n"
     ]
    }
   ],
   "source": [
    "print(\"词典长度:\", len(words_set), len(word2idx), len(idx2word))\n",
    "print(\"训练集样本数量:\", len(train_x), len(train_y))"
   ]
  },
  {
   "cell_type": "code",
   "execution_count": 8,
   "metadata": {},
   "outputs": [],
   "source": [
    "train_data = build_batch_data(train_x, train_y, batch_size=BATCH_SIZE)\n",
    "eval_data = build_batch_data(eval_x, eval_y, batch_size=BATCH_SIZE)\n",
    "test_data = build_batch_data(test_x, test_y, batch_size=BATCH_SIZE)"
   ]
  },
  {
   "cell_type": "code",
   "execution_count": 16,
   "metadata": {},
   "outputs": [],
   "source": [
    "class AttAvgModel(nn.Module):\n",
    "    def __init__(self, vocab_size, embed_dim, output_size, pad_idx):\n",
    "        super(AttAvgModel, self).__init__()\n",
    "        self.embedding = nn.Embedding(vocab_size, embed_dim, padding_idx=pad_idx)\n",
    "        initrange = 0.1\n",
    "        self.embedding.weight.data.uniform_(-initrange, initrange)\n",
    "        # 计算 Attention 向量\n",
    "        self.u = nn.Parameter(torch.randn(embed_dim))\n",
    "        self.fc = nn.Linear(embed_dim, output_size, bias=False)\n",
    "        \n",
    "    def forward(self, text):\n",
    "        # [batch, seq_len] -> [batch, seq_len, emb_dim]\n",
    "        embed = self.embedding(text)\n",
    "        # print('embed size: ', embed.size())\n",
    "        # 扩展 u\n",
    "        # [emb_dim] -> [batch, seq_len, emb_dim]\n",
    "        u = self.u.repeat(embed.size(0), embed.size(1), 1)\n",
    "        # print('u size: ', u.size())\n",
    "        # 计算 cos [batch, seq_len]\n",
    "        cos = F.cosine_similarity(embed, u, dim=2)\n",
    "        # print('cos size: ', cos.size())\n",
    "        # 计算权重 [batch, seq_len]\n",
    "        alpha = F.softmax(cos, dim=1)\n",
    "        # print('alpah attention size: ',alpha.size())  # torch.Size([32, 40]\n",
    "        # 就算句子Attention平均值 torch.Size([32, 100]\n",
    "        h_attn = torch.sum(embed*alpha.unsqueeze(2), dim=1).squeeze(1)\n",
    "        # print('h_atten size: ',h_attn.size())\n",
    "        # [batch, emb_dim] -> [batch, output_size]\n",
    "        out = self.fc(h_attn)   #torch.Size([32, 1])\n",
    "        # print('out size: ', out.size())\n",
    "      \n",
    "        return out\n",
    "    \n",
    "    def get_embed_weight(self):\n",
    "        \"\"\"获取embedding层参数\"\"\"\n",
    "        return self.embedding.weight.data\n",
    "    \n",
    "    def get_u(self):\n",
    "        return self.u\n",
    "\n",
    "\n",
    "def binary_accuracy(preds, y):\n",
    "    \"\"\"\n",
    "    计算准确率\n",
    "    \"\"\"\n",
    "    rounded_preds = torch.round(torch.sigmoid(preds))\n",
    "    correct = (rounded_preds == y).float()  \n",
    "    acc = correct.sum()/len(correct)\n",
    "    return acc\n",
    "\n",
    "\n",
    "def train(model, device, iterator, optimizer, criterion):\n",
    "    \"\"\"训练函数\"\"\"\n",
    "    \n",
    "    epoch_loss = 0\n",
    "    epoch_acc = 0\n",
    "    model.train()\n",
    "    \n",
    "    for x, y in iterator:\n",
    "        x, y = x.to(device), y.to(device) # torch.int64\n",
    "        optimizer.zero_grad()\n",
    "        predictions = model(x).squeeze(1)  # torch.float32 \n",
    "        \n",
    "        loss = criterion(predictions, y)\n",
    "        acc = binary_accuracy(predictions, y)\n",
    "        loss.backward()\n",
    "        optimizer.step()\n",
    "        \n",
    "        epoch_loss += loss.item()\n",
    "        epoch_acc += acc.item()\n",
    "        \n",
    "    return epoch_loss / len(iterator), epoch_acc / len(iterator)\n",
    "\n",
    "\n",
    "def evaluate(model, device, iterator, criterion):\n",
    "    \"\"\"验证函数\"\"\"\n",
    "    epoch_loss = 0\n",
    "    epoch_acc = 0\n",
    "    model.eval()\n",
    "    \n",
    "    with torch.no_grad():\n",
    "        for x, y in iterator:\n",
    "            x, y = x.to(device), y.to(device)\n",
    "            predictions = model(x).squeeze(1)\n",
    "            loss = criterion(predictions, y)\n",
    "            acc = binary_accuracy(predictions, y)\n",
    "            epoch_loss += loss.item()\n",
    "            epoch_acc += acc.item()\n",
    "        \n",
    "    return epoch_loss / len(iterator), epoch_acc / len(iterator)\n",
    "\n",
    "\n",
    "def count_parameters(model):\n",
    "    \"\"\"统计模型的参数量\"\"\"\n",
    "    return sum(p.numel() for p in model.parameters() if p.requires_grad)\n",
    "\n",
    "\n",
    "def epoch_time(start_time, end_time):\n",
    "    \"\"\"计算时间差，单位秒\"\"\"\n",
    "    elapsed_time = end_time - start_time\n",
    "    elapsed_mins = int(elapsed_time / 60)\n",
    "    elapsed_secs = int(elapsed_time - (elapsed_mins * 60))\n",
    "    return elapsed_mins, elapsed_secs"
   ]
  },
  {
   "cell_type": "code",
   "execution_count": 17,
   "metadata": {},
   "outputs": [
    {
     "name": "stdout",
     "output_type": "stream",
     "text": [
      "模型有1,628,600个可调节参数, 大约6.212615966796875 M.\n",
      "[0, 1, 2, 3]\n"
     ]
    }
   ],
   "source": [
    "INPUT_DIM = len(words_set)\n",
    "PAD_IDX = word2idx['<pad>']\n",
    "\n",
    "model = AttAvgModel(INPUT_DIM, EMBEDDING_DIM, OUTPUT_DIM, PAD_IDX)\n",
    "print(f'模型有{count_parameters(model):,}个可调节参数, 大约{count_parameters(model)*4/1024/1024} M.')\n",
    "\n",
    "model = model.to(DEVICE)\n",
    "\n",
    "# 使用多块GPU\n",
    "if NUM_CUDA > 1:\n",
    "    device_ids = list(range(NUM_CUDA))\n",
    "    print(device_ids)\n",
    "    \n",
    "optimizer = optim.Adam(model.parameters(),lr=LEARNING_RATE)\n",
    "criterion = nn.BCEWithLogitsLoss()"
   ]
  },
  {
   "cell_type": "code",
   "execution_count": null,
   "metadata": {},
   "outputs": [
    {
     "name": "stdout",
     "output_type": "stream",
     "text": [
      "***Save Best Model attention-wavg-model.pth***\n",
      "Epoch: 01 | Epoch Time: 0m 13s\n",
      "\tTrain Loss: 0.326 | Train Acc: 85.71%\n",
      "\t Val. Loss: 0.474 |  Val. Acc: 82.06%\n",
      "Epoch: 02 | Epoch Time: 0m 13s\n",
      "\tTrain Loss: 0.190 | Train Acc: 92.71%\n",
      "\t Val. Loss: 0.564 |  Val. Acc: 81.48%\n",
      "Epoch: 03 | Epoch Time: 0m 12s\n",
      "\tTrain Loss: 0.154 | Train Acc: 94.18%\n",
      "\t Val. Loss: 0.700 |  Val. Acc: 79.51%\n"
     ]
    }
   ],
   "source": [
    "model_name = 'attention-wavg-model.pth'\n",
    "for epoch in range(1, EPOCHS+1):\n",
    "    start_time = time.time()\n",
    "    train_loss, train_acc = train(model, DEVICE, train_data, optimizer, criterion)\n",
    "    valid_loss, valid_acc = evaluate(model, DEVICE, eval_data, criterion)\n",
    "    end_time = time.time()\n",
    "\n",
    "    epoch_mins, epoch_secs = epoch_time(start_time, end_time)\n",
    "    if valid_loss < BEST_VALID_LOSS:\n",
    "        BEST_VALID_LOSS = valid_loss\n",
    "        torch.save(model, model_name)\n",
    "        print(f'***Save Best Model {model_name}***')\n",
    "    \n",
    "    print(f'Epoch: {epoch :02} | Epoch Time: {epoch_mins}m {epoch_secs}s')\n",
    "    print(f'\\tTrain Loss: {train_loss:.3f} | Train Acc: {train_acc*100:.2f}%')\n",
    "    print(f'\\t Val. Loss: {valid_loss:.3f} |  Val. Acc: {valid_acc*100:.2f}%')"
   ]
  },
  {
   "cell_type": "code",
   "execution_count": null,
   "metadata": {},
   "outputs": [],
   "source": []
  }
 ],
 "metadata": {
  "kernelspec": {
   "display_name": "Python 3",
   "language": "python",
   "name": "python3"
  },
  "language_info": {
   "codemirror_mode": {
    "name": "ipython",
    "version": 3
   },
   "file_extension": ".py",
   "mimetype": "text/x-python",
   "name": "python",
   "nbconvert_exporter": "python",
   "pygments_lexer": "ipython3",
   "version": "3.6.8"
  }
 },
 "nbformat": 4,
 "nbformat_minor": 2
}
