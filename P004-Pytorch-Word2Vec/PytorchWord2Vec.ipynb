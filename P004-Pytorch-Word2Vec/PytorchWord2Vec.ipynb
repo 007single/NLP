{
 "cells": [
  {
   "cell_type": "markdown",
   "metadata": {},
   "source": [
    "## 词向量\n",
    "#### 学习目标\n",
    "\n",
    "- 学习词向量的概念\n",
    "- 用Skip-thought模型训练词向量\n",
    "- 学习使用PyTorch dataset和dataloader\n",
    "- 学习定义PyTorch模型\n",
    "- 学习torch.nn中常见的Module\n",
    "    - Embedding\n",
    "- 学习常见的PyTorch operations\n",
    "    - bmm\n",
    "    - logsigmoid\n",
    "- 保存和读取PyTorch模型\n",
    "\n",
    "- 第二课使用的训练数据可以从以下链接下载到。\n",
    "    - 链接:https://pan.baidu.com/s/1tFeK3mXuVXEy3EMarfeWvg 密码:v2z5\n",
    "\n",
    "#### 内容\n",
    "\n",
    "- 在这一份notebook中，我们会（尽可能）尝试复现论文[Distributed Representations of Words and Phrases and their Compositionality](http://papers.nips.cc/paper/5021-distributed-representations-of-words-and-phrases-and-their-compositionality.pdf)中训练词向量的方法. 我们会实现Skip-gram模型，并且使用论文中noice contrastive sampling的目标函数。\n",
    "\n",
    "- 这篇论文有很多模型实现的细节，这些细节对于词向量的好坏至关重要。我们虽然无法完全复现论文中的实验结果，主要是由于计算资源等各种细节原因，但是我们还是可以大致展示如何训练词向量。\n",
    "\n",
    "- 以下是一些我们没有实现的细节\n",
    "    - subsampling：参考论文section 2.3"
   ]
  },
  {
   "cell_type": "code",
   "execution_count": 1,
   "metadata": {},
   "outputs": [],
   "source": [
    "import torch\n",
    "import torch.nn as nn\n",
    "import torch.nn.functional as F\n",
    "import torch.utils.data as tud\n",
    "from torch.nn.parameter import Parameter\n",
    "\n",
    "from collections import Counter\n",
    "import numpy as np\n",
    "import random\n",
    "import math\n",
    "\n",
    "import pandas as pd\n",
    "import scipy\n",
    "import sklearn\n",
    "from sklearn.metrics.pairwise import cosine_similarity"
   ]
  },
  {
   "cell_type": "code",
   "execution_count": 5,
   "metadata": {},
   "outputs": [],
   "source": [
    "USE_CUDA = torch.cuda.is_available()\n",
    "NUM_CUDA = torch.cuda.device_count()\n",
    "\n",
    "# 为保证实验结果可以复现，我们经常会把各种random seed固定在某一个值\n",
    "SEED = 2019\n",
    "random.seed(SEED)\n",
    "np.random.seed(SEED)\n",
    "torch.manual_seed(SEED)\n",
    "if USE_CUDA:\n",
    "    torch.cuda.manual_seed(SEED)\n",
    "    \n",
    "# 设定一些超参数\n",
    "K = 100         # 负样本数量\n",
    "C = 3           # word2vec窗口大小（半径）\n",
    "EPOCHS = 2      # 跑完一次全量数据为一次EPOCHS\n",
    "MAX_VOCAB_SIZE = 30000    # 词典容量，即有3万个单词\n",
    "BATCH_SIZE = 128          # 每批次数据大小\n",
    "LEARNING_RATE = 0.2       # 初始学习率\n",
    "EMBEDDING_SIZE = 100      # 词向量维度\n",
    "\n",
    "LOG_FILE = \"word-embedding.log\"\n",
    "\n",
    "TRAIN_FILE = \"data/text8/text8.train.txt\"\n",
    "EVAL_FILE = \"data/text8/text8.dev.txt\"\n",
    "TEST_FILE = \"data/text8/text8.test.txt\""
   ]
  },
  {
   "cell_type": "code",
   "execution_count": 6,
   "metadata": {},
   "outputs": [],
   "source": [
    "# tokenize函数，把一篇文本转化成一个个单词\n",
    "def word_tockenize(text):\n",
    "    return text.split()"
   ]
  },
  {
   "cell_type": "markdown",
   "metadata": {},
   "source": [
    "## 数据预处理（文本处理）\n",
    "- 从文本文件中读取所有的文字，通过这些文本创建一个vocabulary\n",
    "- 由于单词数量可能太大，我们只选取最常见的MAX_VOCAB_SIZE个单词\n",
    "- 我们添加一个UNK单词表示所有不常见的单词\n",
    "- 我们需要记录单词到index的mapping，以及index到单词的mapping，单词的count，单词的(normalized) frequency，以及单词总数。"
   ]
  },
  {
   "cell_type": "code",
   "execution_count": 21,
   "metadata": {},
   "outputs": [],
   "source": [
    "def text_preprocess(txt_file):\n",
    "    with open(txt_file, \"r\") as f:\n",
    "        text = f.read()\n",
    "    text = [w for w in word_tockenize(text.lower())]\n",
    "    # 词频最大的MAX_VOCAB_SIZE-1个单词，剩下一个留给”<unk>\"\n",
    "    vocab = dict(Counter(text).most_common(MAX_VOCAB_SIZE-1)) \n",
    "    # 其他未在vocab中的单词用<unk>代替，并计算unk的词频，添加到vocab字典中\n",
    "    vocab[\"<unk>\"] = len(text) - np.sum(list(vocab.values()))\n",
    "    \n",
    "    idx2word = [word for word in vocab.keys()]  \n",
    "    word2idx = {word: i for i, word in enumerate(idx2word)}\n",
    "    \n",
    "    # 负样本采样\n",
    "    # 每个单词出现的数量列表\n",
    "    word_counts = np.array([count for count in vocab.values()], \n",
    "                           dtype=np.float32)\n",
    "    word_freqs = word_counts / np.sum(word_counts)\n",
    "    word_freqs = word_freqs ** (3./4.)\n",
    "    word_freqs = word_freqs / np.sum(word_freqs)\n",
    "    vocab_size = len(idx2word)\n",
    "    print(vocab_size)\n",
    "    return text, idx2word, word2idx, word_freqs, word_counts, vocab_size"
   ]
  },
  {
   "cell_type": "code",
   "execution_count": 22,
   "metadata": {},
   "outputs": [
    {
     "name": "stdout",
     "output_type": "stream",
     "text": [
      "30000\n"
     ]
    }
   ],
   "source": [
    "text, idx2word, word2idx, word_freqs, word_counts, VOCAB_SIZE = text_preprocess(TRAIN_FILE)"
   ]
  },
  {
   "cell_type": "markdown",
   "metadata": {},
   "source": [
    "## 实现DataLoader\n",
    "一个dataloader需要以下内容：\n",
    "\n",
    "- 把所有text编码成数字，然后用subsampling预处理这些文字。\n",
    "- 保存vocabulary，单词count，normalized word frequency\n",
    "- 每个iteration sample一个中心词\n",
    "- 根据当前的中心词返回context单词\n",
    "- 根据中心词sample一些negative单词\n",
    "- 返回单词的counts\n",
    "\n",
    "这里有一个好的tutorial介绍如何使用[PyTorch dataloader](https://pytorch.org/tutorials/beginner/data_loading_tutorial.html).\n",
    "为了使用dataloader，我们需要定义以下两个function:\n",
    "\n",
    "- ```__len__``` function需要返回整个数据集中有多少个item\n",
    "- ```__get__``` 根据给定的index返回一个item\n",
    "\n",
    "有了dataloader之后，我们可以轻松随机打乱整个数据集，拿到一个batch的数据等等。"
   ]
  },
  {
   "cell_type": "markdown",
   "metadata": {},
   "source": [
    "## 理解torch.multinomial 采样函数\n",
    "--------------\n",
    "- torch.multinomial(input, num_samples, replacement=False, out=None) → LongTensor\n",
    "    - 作用是对input的每一行做num_samples次取值，输出的张量是每一次取值时input张量对应行的**下标**。\n",
    "    - 输入是一个input张量，一个取样数量可以是列表，和一个布尔值replacement。\n",
    "    - input张量可以看成一个权重张量，每一个元素代表其在该行中的权重。如果有元素为0，那么在其他不为0的元素\n",
    "    - 被取干净之前，这个元素是不会被取到的。\n",
    "    - num_samples是每一行的取值次数，该值不能大于每一样的元素数，否则会报错。\n",
    "    - replacement指的是取样时是否是有放回的取样，True是有放回，False无放回。\n",
    "- 官方例子\n",
    "```python\n",
    "weights = torch.tensor([0, 0.8, 2, 0], dtype=torch.float) # create a tensor of weights\n",
    "print(torch.multinomial(weights, 2))\n",
    "# tensor([2, 1])\n",
    "print(torch.multinomial(weights, 4, replacement=True))\n",
    "# tensor([2, 2, 1, 2])\n",
    "```"
   ]
  },
  {
   "cell_type": "code",
   "execution_count": 52,
   "metadata": {},
   "outputs": [],
   "source": [
    "class WordEmbeddingDataset(tud.Dataset):\n",
    "    def __init__(self, text, word2idx, idx2word, word_freqs, word_counts):\n",
    "        super(WordEmbeddingDataset, self).__init__()\n",
    "        # 文档编码\n",
    "        self.text_encoded = [word2idx.get(t, VOCAB_SIZE-1) for t in text]\n",
    "        self.text_encoded = torch.Tensor(self.text_encoded).long()\n",
    "\n",
    "        self.word2idx = word2idx\n",
    "        self.idx2word = idx2word\n",
    "        self.word_freqs = torch.Tensor(word_freqs)\n",
    "        self.word_counts = torch.Tensor(word_counts)\n",
    "        \n",
    "    def __len__(self):\n",
    "        ''' \n",
    "        返回整个数据集（所有单词）的长度\n",
    "        '''\n",
    "        return len(self.text_encoded)\n",
    "    \n",
    "    def __getitem__(self, idx):\n",
    "        ''' \n",
    "        这个function返回以下数据用于训练\n",
    "            - 中心词\n",
    "            - 这个单词附近的(positive)单词\n",
    "            - 随机采样的K个单词作为negative sample\n",
    "        '''\n",
    "        center_word = self.text_encoded[idx]\n",
    "        pos_indices = list(range(idx-C, idx))+list(range(idx+1, idx+C+1))\n",
    "        # 返回除中心词之外的附近的单词的索引\n",
    "        pos_indices = [i % len(self.text_encoded) for i in pos_indices]\n",
    "        # 周围词编码列表\n",
    "        pos_words = self.text_encoded[pos_indices]\n",
    "        # 多项式分布采样\n",
    "        neg_words = torch.multinomial(self.word_freqs, K * pos_words.shape[0], True)\n",
    "        \n",
    "        return center_word, pos_words, neg_words "
   ]
  },
  {
   "cell_type": "markdown",
   "metadata": {},
   "source": [
    "## 创建Dataset与Dataloader"
   ]
  },
  {
   "cell_type": "code",
   "execution_count": 53,
   "metadata": {},
   "outputs": [],
   "source": [
    "dataset = WordEmbeddingDataset(text, word2idx, idx2word, word_freqs, word_counts)\n",
    "dataloader = tud.DataLoader(dataset, batch_size=BATCH_SIZE, shuffle=True, num_workers=4)"
   ]
  },
  {
   "cell_type": "code",
   "execution_count": 54,
   "metadata": {},
   "outputs": [
    {
     "data": {
      "text/plain": [
       "<torch.utils.data.dataloader.DataLoader at 0x7fb81f16b908>"
      ]
     },
     "execution_count": 54,
     "metadata": {},
     "output_type": "execute_result"
    }
   ],
   "source": [
    "dataloader"
   ]
  },
  {
   "cell_type": "code",
   "execution_count": 55,
   "metadata": {},
   "outputs": [],
   "source": [
    "iterloader = iter(dataloader)"
   ]
  },
  {
   "cell_type": "code",
   "execution_count": 47,
   "metadata": {},
   "outputs": [
    {
     "data": {
      "text/plain": [
       "torch.utils.data.dataloader._DataLoaderIter"
      ]
     },
     "execution_count": 47,
     "metadata": {},
     "output_type": "execute_result"
    }
   ],
   "source": [
    "type(iterloader)"
   ]
  },
  {
   "cell_type": "code",
   "execution_count": null,
   "metadata": {},
   "outputs": [],
   "source": []
  }
 ],
 "metadata": {
  "kernelspec": {
   "display_name": "Python 3",
   "language": "python",
   "name": "python3"
  },
  "language_info": {
   "codemirror_mode": {
    "name": "ipython",
    "version": 3
   },
   "file_extension": ".py",
   "mimetype": "text/x-python",
   "name": "python",
   "nbconvert_exporter": "python",
   "pygments_lexer": "ipython3",
   "version": "3.6.8"
  }
 },
 "nbformat": 4,
 "nbformat_minor": 2
}
